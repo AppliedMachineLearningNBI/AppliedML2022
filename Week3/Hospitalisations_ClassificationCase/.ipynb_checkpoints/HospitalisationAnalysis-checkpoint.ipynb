{
 "cells": [
  {
   "cell_type": "markdown",
   "metadata": {},
   "source": [
    "# Classifying hospitalisation cases:\n",
    "\n",
    "The data for this exercise is information on 20000+ knee/hip operations, for which there are 32 input features, most of which are boolean or categorical. The challenge is to predict, which patients will have complications after the surgery.\n",
    "\n",
    "The data is divided into **training** (18104 cases) and **test** (3915 cases) sets already, to preserve the cronological order, i.e. the training set lies before the test set in time. The features are simply labelled x0-x31, simply to ensure anonymity, and their true meaning is not essential anyway.\n",
    "\n",
    "The real challenge in this dataset lies in the **lacking balance between the two classes**, as there are only (fortunately) about 5%, that experience complications. This requires you to think a lot about your loss function.\n",
    "\n",
    "\n",
    "### Questions:\n",
    "Try to see, if you can answer the following questions:<br>\n",
    "1) What loss function do you use? Is this \"reasonable\" given that the dataset is unbalanced?<br>\n",
    "2) Imagine that the doctors wanted the largest fraction of positives (i.e. with complications) among the 20% most likely to be positive,<br> simply because the ward can give special treatment to 20% of patients. Would that affect your choice of loss function?<br>\n",
    "3) How do you deal with the missing information?<br>\n",
    "\n",
    "***\n",
    "\n",
    "* Author: Troels C. Petersen (NBI) & Christian Michelsen (NBI)\n",
    "* Email:  petersen@nbi.dk\n",
    "* Date:   6th of May 2022 (latest version)"
   ]
  },
  {
   "cell_type": "code",
   "execution_count": 3,
   "metadata": {},
   "outputs": [],
   "source": [
    "from __future__ import print_function, division   # Ensures Python3 printing & division standard\n",
    "from matplotlib import pyplot as plt\n",
    "import numpy as np\n",
    "import pandas as pd\n",
    "\n",
    "import math\n",
    "from array import array\n",
    "\n",
    "import numpy as np\n",
    "import matplotlib.mlab as mlab\n",
    "import matplotlib.pyplot as plt\n",
    "\n",
    "# For better looking text on figures\n",
    "from matplotlib import rc\n",
    "rc('text', usetex=True)\n",
    "rc('font', family='serif')"
   ]
  },
  {
   "cell_type": "code",
   "execution_count": 6,
   "metadata": {},
   "outputs": [
    {
     "name": "stdout",
     "output_type": "stream",
     "text": [
      "       x0  x1     x2    x3   x4  x5  x6  x7  x8  x9  ...  x22  x23  x24  \\\n",
      "0       0   0  162.0  66.0  7.9   1   0   0   0   0  ...    0    1   60   \n",
      "1       0   0  168.0  67.0  9.0   0   0   0   0   0  ...    0    1   76   \n",
      "2       1   0  167.0  76.0  9.1   0   0   0   0   0  ...    0    1   73   \n",
      "3       0   1  175.0  65.0  9.0   0   0   0   0   0  ...    0    0   69   \n",
      "4       1   0  184.0  88.0  9.6   0   0   0   0   0  ...    0    0   63   \n",
      "...    ..  ..    ...   ...  ...  ..  ..  ..  ..  ..  ...  ...  ...  ...   \n",
      "18098   1   0  180.0  80.0  8.9   0   1   0   0   1  ...    0    0   56   \n",
      "18099   1   0  165.0  90.0  8.6   0   0   0   0   1  ...    0    0   65   \n",
      "18100   0   0  175.0  75.0  8.2   0   0   0   0   1  ...    1    0   54   \n",
      "18101   1   0  184.0  88.0  9.0   0   0   1   0   1  ...    0    0   79   \n",
      "18102   0   0  170.0  56.0  8.8   0   0   0   0   0  ...    0    0   69   \n",
      "\n",
      "             x25  x26  x27   x28  x29  x30  x31  \n",
      "0      25.148605    0    0  2014    1    3    2  \n",
      "1      23.738662    0    0  2014    1    3    2  \n",
      "2      27.250887    0    0  2014    1    3    2  \n",
      "3      21.224490    0    0  2014    1    3    2  \n",
      "4      25.992439    0    0  2014    1    3    2  \n",
      "...          ...  ...  ...   ...  ...  ...  ...  \n",
      "18098  24.691358    0    0  2016   12    3   29  \n",
      "18099  33.057851    0    0  2016   12    3   29  \n",
      "18100  24.489796    1    0  2016   12    3   29  \n",
      "18101  25.992439    0    0  2016   12    3   29  \n",
      "18102  19.377163    0    0  2016   12    3   29  \n",
      "\n",
      "[18103 rows x 32 columns] 0        0\n",
      "1        0\n",
      "2        0\n",
      "3        1\n",
      "4        0\n",
      "        ..\n",
      "18098    0\n",
      "18099    0\n",
      "18100    0\n",
      "18101    0\n",
      "18102    0\n",
      "Name: y, Length: 18103, dtype: int64\n"
     ]
    }
   ],
   "source": [
    "# Read in the data, and prepare the target y (the y-files also contains an ML and a Logistic Regression (LR) answer,\n",
    "# which you can consider \"competitor algorithms\"):\n",
    "X_train = pd.read_csv(\"X_train.csv\")\n",
    "df_y = pd.read_csv(\"y_train.csv\")\n",
    "y_train = df_y[\"y\"]\n",
    "\n",
    "X_test = pd.read_csv(\"X_test.csv\")\n",
    "df_y = pd.read_csv(\"y_test.csv\")\n",
    "y_test = df_y[\"y\"]\n",
    "\n",
    "print(X_train, y_train)"
   ]
  },
  {
   "cell_type": "code",
   "execution_count": null,
   "metadata": {},
   "outputs": [],
   "source": []
  }
 ],
 "metadata": {
  "kernelspec": {
   "display_name": "Python 3",
   "language": "python",
   "name": "python3"
  },
  "language_info": {
   "codemirror_mode": {
    "name": "ipython",
    "version": 3
   },
   "file_extension": ".py",
   "mimetype": "text/x-python",
   "name": "python",
   "nbconvert_exporter": "python",
   "pygments_lexer": "ipython3",
   "version": "3.7.6"
  }
 },
 "nbformat": 4,
 "nbformat_minor": 2
}
