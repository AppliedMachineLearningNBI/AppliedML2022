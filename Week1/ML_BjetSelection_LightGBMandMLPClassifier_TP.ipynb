{
 "cells": [
  {
   "cell_type": "markdown",
   "metadata": {},
   "source": [
    "# Classification of b-quark jets in the Aleph simulated data\n",
    "\n",
    "Python macro for selecting b-jets (sprays of particles with a b-quark in it) in Aleph Z -> qqbar MC (i.e. simulated decays of the Z0 boson decaying to a quark and an anti-quark) in various ways:\n",
    "* Initially, simply with \"if\"-statements making requirements on certain variables. This corresponds to selecting \"boxes\" in the input variable space (typically called \"X\"). One could also try a Fisher discriminant (linear combination of input variables), which corresponds to a plane in the X-space. But as the problem is non-linear, it is likely to be sub-optimal.\n",
    "\n",
    "* Next using Machine Learning (ML) methods. We will during the first week try both (Boosted) Decision Tree ((B)DT) based and Neural Net (NN) based methods, and see how complicated (or not) it is to get a good solution, and how much better it performs compared to the \"classic\" selection method.\n",
    "\n",
    "Once you obtain a classification of b-jets vs. non-b-jets, think about how to quantify the quality of your algorithm. Also, try to compare it to the NN result of the Aleph collaboration, given by the variable \"nnbjet\". It is based on a neural network with 6 input variables (prob_b, spheri, pt2rel, multip, bqvjet, and ptlrel), and two hidden layers each with 10 nodes in. Can you do better?\n",
    "\n",
    "In the end, this exercise is the simple start on moving into the territory of Machine Learning analysis.\n",
    "\n",
    "\n",
    "### Data:\n",
    "The input variables (X) are (where Aleph uses only the latter six):\n",
    "* energy: Measured energy of the jet in GeV. Should be 45 GeV, but fluctuates.\n",
    "* cTheta: cos(theta), i.e. the polar angle of the jet with respect to the beam axis. Note, that the detector works best in the central region (|cTheta| small) and less well in the forward regions.\n",
    "* phi:    The azimuth angle of the jet. As the detector is uniform in phi, this should not matter (much).\n",
    "* prob_b: Probability of being a b-jet from the pointing of the tracks to the vertex.\n",
    "* spheri: Sphericity of the event, i.e. how spherical it is.\n",
    "* pt2rel: The transverse momentum squared of the tracks relative to the jet axis, i.e. width of the jet.\n",
    "* multip: Multiplicity of the jet (in a relative measure).\n",
    "* bqvjet: b-quark vertex of the jet, i.e. the probability of a detached vertex.\n",
    "* ptlrel: Transverse momentum (in GeV) of possible lepton with respect to jet axis (about 0 if no leptons).\n",
    "\n",
    "The target variable (Y) is:\n",
    "* isb:    1 if it is from a b-quark and 0, if it is not.\n",
    "\n",
    "Finally, those before you (the Aleph collaboration in the mid 90'ies) produced a Neural Net (6 input variables, two hidden layers with 10 neurons in each, and 1 output varible) based classification variable, which you can compare to (and compete with?):\n",
    "* nnbjet: Value of original Aleph b-jet tagging algorithm, using only the last six variables (for reference).\n",
    "\n",
    "\n",
    "### Task:\n",
    "Thus, the task before you is to produce functions (non-ML and then ML algorithm), which given the input variables X provides an output variable estimate, Y_est, which is \"closest possible\" to the target variable, Y. The \"closest possible\" is left to the user to define in a _Loss Function_, which we will discuss further. In classification problems (such as this), the typical loss function to use \"Cross Entropy\", see https://en.wikipedia.org/wiki/Cross_entropy.\n",
    "\n",
    "Once you have results, you're welcome to continue with a Fisher Linear Discriminant, and you may also challenge yourself by considering \"v1\" of the data, which is a little less \"polished and ready\". If you also manage this, then don't hold back in applying a real ML algorithm to the problem (you can get inspiration from \"ML_MethodsDemos.ipynb\" or the vast internet). A suggestion might be XGBoost or LightGBM.\n",
    "\n",
    "* Author: Troels C. Petersen (NBI)\n",
    "* Email:  petersen@nbi.dk\n",
    "* Date:   17th of April 2022"
   ]
  },
  {
   "cell_type": "code",
   "execution_count": 1,
   "metadata": {},
   "outputs": [
    {
     "name": "stderr",
     "output_type": "stream",
     "text": [
      "/opt/anaconda3/lib/python3.7/site-packages/lightgbm/__init__.py:48: UserWarning: Starting from version 2.2.1, the library file in distribution wheels for macOS is built by the Apple Clang (Xcode_8.3.3) compiler.\n",
      "This means that in case of installing LightGBM from PyPI via the ``pip install lightgbm`` command, you don't need to install the gcc compiler anymore.\n",
      "Instead of that, you need to install the OpenMP library, which is required for running LightGBM on the system with the Apple Clang compiler.\n",
      "You can install the OpenMP library by the following command: ``brew install libomp``.\n",
      "  \"You can install the OpenMP library by the following command: ``brew install libomp``.\", UserWarning)\n"
     ]
    }
   ],
   "source": [
    "from __future__ import print_function, division   # Ensures Python3 printing & division standard\n",
    "from matplotlib import pyplot as plt\n",
    "from matplotlib import colors\n",
    "from matplotlib.colors import LogNorm\n",
    "import numpy as np\n",
    "import csv\n",
    "\n",
    "import time"
   ]
  },
  {
   "cell_type": "markdown",
   "metadata": {},
   "source": [
    "Possible other packages to consider:\n",
    "cornerplot, seaplot, sklearn.decomposition(PCA)"
   ]
  },
  {
   "cell_type": "code",
   "execution_count": 2,
   "metadata": {},
   "outputs": [],
   "source": [
    "r = np.random\n",
    "r.seed(42)\n",
    "\n",
    "SavePlots = False\n",
    "plt.close('all')"
   ]
  },
  {
   "cell_type": "markdown",
   "metadata": {},
   "source": [
    "# Read the data\n",
    "\n",
    "...and choose input and target variables:\n",
    "\n",
    "A few worlds on the variables and feature choices:\n",
    "* 'isb' is our binary truth variables. If isb = 1 then it's a b-quark and isb = 0 if it is not.\n",
    "   Because this is our truth, we must not include it as the input to our model.\n",
    "* 'nnbjet' is our \"competitor\" e.g. a model we are supposed to benchmark against.\n",
    "   Therefore 'nnbjet' shouldn't be in our input either.\n",
    "* 'energy', 'cTheta', and 'phi' are kinematic variables of the jet, and not about the jet type.\n",
    "   Though they might help, they were not in the original Aleph NN (nnbjet), and to compare, we omit them.\n",
    "\n",
    "Usually one would apply further checks/regularization/standardization of data at this step, but this data has already been \"prepared\", so we'll move onto seperate the data into input, truth and benchmark:"
   ]
  },
  {
   "cell_type": "code",
   "execution_count": null,
   "metadata": {},
   "outputs": [],
   "source": [
    "import pandas as pd \n",
    "from pandas import Series, DataFrame \n",
    "\n",
    "# Read the data in using Pandas Dataframe and print the variables:\n",
    "data = pd.DataFrame(np.genfromtxt('AlephBtag_MC_small_v2.csv', names=True))\n",
    "variables = data.columns\n",
    "print(variables)\n",
    "\n",
    "# Decide on which variables to use for input (X) and what defines the label (Y):\n",
    "input_variables = variables[(variables != 'nnbjet') & (variables != 'isb') & (variables != 'energy') & (variables != 'cTheta') & (variables != 'phi')]\n",
    "input_data      = data[input_variables]\n",
    "truth_data      = data['isb']\n",
    "benchmark_data  = data['nnbjet']\n",
    "print(\"  Variables used for training: \", input_variables)"
   ]
  },
  {
   "cell_type": "markdown",
   "metadata": {},
   "source": [
    "# Evaluate an attempt at classification:\n",
    "\n",
    "This is made into a function, as this is called many times. It returns a \"confusion matrix\" and the fraction of wrong classifications."
   ]
  },
  {
   "cell_type": "code",
   "execution_count": 3,
   "metadata": {},
   "outputs": [],
   "source": [
    "def evaluate(bquark) :\n",
    "    N = [[0,0], [0,0]]   # Make a list of lists (i.e. confusion matrix) for counting successes/failures.\n",
    "    for i in np.arange(len(isb)):\n",
    "        if (bquark[i] == 0 and isb[i] == 0) : N[0][0] += 1\n",
    "        if (bquark[i] == 0 and isb[i] == 1) : N[0][1] += 1\n",
    "        if (bquark[i] == 1 and isb[i] == 0) : N[1][0] += 1\n",
    "        if (bquark[i] == 1 and isb[i] == 1) : N[1][1] += 1\n",
    "    fracWrong = float(N[0][1]+N[1][0])/float(len(isb))\n",
    "    accuracy = 1.0 - fracWrong\n",
    "    return N, accuracy, fracWrong"
   ]
  },
  {
   "cell_type": "markdown",
   "metadata": {},
   "source": [
    "***\n",
    "\n",
    "# Classify B-jets using LightGBM:\n",
    "\n",
    "This is a solution example using LightGBM (tree based)."
   ]
  },
  {
   "cell_type": "code",
   "execution_count": 5,
   "metadata": {},
   "outputs": [
    {
     "name": "stdout",
     "output_type": "stream",
     "text": [
      "  Variables used for training:  Index(['energy', 'cTheta', 'phi', 'prob_b', 'spheri', 'pt2rel', 'multip',\n",
      "       'bqvjet', 'ptlrel'],\n",
      "      dtype='object')\n",
      "[1]\tvalid_0's binary_logloss: 0.485001\n",
      "Training until validation scores don't improve for 20 rounds\n",
      "[2]\tvalid_0's binary_logloss: 0.448637\n",
      "[3]\tvalid_0's binary_logloss: 0.420096\n",
      "[4]\tvalid_0's binary_logloss: 0.397495\n",
      "[5]\tvalid_0's binary_logloss: 0.3785\n",
      "[6]\tvalid_0's binary_logloss: 0.362879\n",
      "[7]\tvalid_0's binary_logloss: 0.349525\n",
      "[8]\tvalid_0's binary_logloss: 0.337686\n",
      "[9]\tvalid_0's binary_logloss: 0.327579\n",
      "[10]\tvalid_0's binary_logloss: 0.318867\n",
      "[11]\tvalid_0's binary_logloss: 0.311337\n",
      "[12]\tvalid_0's binary_logloss: 0.304539\n",
      "[13]\tvalid_0's binary_logloss: 0.298589\n",
      "[14]\tvalid_0's binary_logloss: 0.293481\n",
      "[15]\tvalid_0's binary_logloss: 0.288499\n",
      "[16]\tvalid_0's binary_logloss: 0.284442\n",
      "[17]\tvalid_0's binary_logloss: 0.280641\n",
      "[18]\tvalid_0's binary_logloss: 0.277102\n",
      "[19]\tvalid_0's binary_logloss: 0.274052\n",
      "[20]\tvalid_0's binary_logloss: 0.271454\n",
      "[21]\tvalid_0's binary_logloss: 0.269122\n",
      "[22]\tvalid_0's binary_logloss: 0.26687\n",
      "[23]\tvalid_0's binary_logloss: 0.265125\n",
      "[24]\tvalid_0's binary_logloss: 0.263555\n",
      "[25]\tvalid_0's binary_logloss: 0.261827\n",
      "[26]\tvalid_0's binary_logloss: 0.260252\n",
      "[27]\tvalid_0's binary_logloss: 0.258838\n",
      "[28]\tvalid_0's binary_logloss: 0.257729\n",
      "[29]\tvalid_0's binary_logloss: 0.256538\n",
      "[30]\tvalid_0's binary_logloss: 0.255565\n",
      "[31]\tvalid_0's binary_logloss: 0.25459\n",
      "[32]\tvalid_0's binary_logloss: 0.253567\n",
      "[33]\tvalid_0's binary_logloss: 0.252541\n",
      "[34]\tvalid_0's binary_logloss: 0.251855\n",
      "[35]\tvalid_0's binary_logloss: 0.25112\n",
      "[36]\tvalid_0's binary_logloss: 0.250524\n",
      "[37]\tvalid_0's binary_logloss: 0.250153\n",
      "[38]\tvalid_0's binary_logloss: 0.249534\n",
      "[39]\tvalid_0's binary_logloss: 0.249109\n",
      "[40]\tvalid_0's binary_logloss: 0.248832\n",
      "[41]\tvalid_0's binary_logloss: 0.248239\n",
      "[42]\tvalid_0's binary_logloss: 0.247929\n",
      "[43]\tvalid_0's binary_logloss: 0.247418\n",
      "[44]\tvalid_0's binary_logloss: 0.247088\n",
      "[45]\tvalid_0's binary_logloss: 0.246752\n",
      "[46]\tvalid_0's binary_logloss: 0.24643\n",
      "[47]\tvalid_0's binary_logloss: 0.246206\n",
      "[48]\tvalid_0's binary_logloss: 0.245982\n",
      "[49]\tvalid_0's binary_logloss: 0.245728\n",
      "[50]\tvalid_0's binary_logloss: 0.245701\n",
      "[51]\tvalid_0's binary_logloss: 0.245473\n",
      "[52]\tvalid_0's binary_logloss: 0.245416\n",
      "[53]\tvalid_0's binary_logloss: 0.245317\n",
      "[54]\tvalid_0's binary_logloss: 0.245277\n",
      "[55]\tvalid_0's binary_logloss: 0.245239\n",
      "[56]\tvalid_0's binary_logloss: 0.245136\n",
      "[57]\tvalid_0's binary_logloss: 0.245142\n",
      "[58]\tvalid_0's binary_logloss: 0.244998\n",
      "[59]\tvalid_0's binary_logloss: 0.244888\n",
      "[60]\tvalid_0's binary_logloss: 0.244829\n",
      "[61]\tvalid_0's binary_logloss: 0.244822\n",
      "[62]\tvalid_0's binary_logloss: 0.244691\n",
      "[63]\tvalid_0's binary_logloss: 0.244597\n",
      "[64]\tvalid_0's binary_logloss: 0.244341\n",
      "[65]\tvalid_0's binary_logloss: 0.244151\n",
      "[66]\tvalid_0's binary_logloss: 0.243996\n",
      "[67]\tvalid_0's binary_logloss: 0.24403\n",
      "[68]\tvalid_0's binary_logloss: 0.243985\n",
      "[69]\tvalid_0's binary_logloss: 0.243973\n",
      "[70]\tvalid_0's binary_logloss: 0.24402\n",
      "[71]\tvalid_0's binary_logloss: 0.243933\n",
      "[72]\tvalid_0's binary_logloss: 0.243894\n",
      "[73]\tvalid_0's binary_logloss: 0.243865\n",
      "[74]\tvalid_0's binary_logloss: 0.243795\n",
      "[75]\tvalid_0's binary_logloss: 0.243763\n",
      "[76]\tvalid_0's binary_logloss: 0.243858\n",
      "[77]\tvalid_0's binary_logloss: 0.243932\n",
      "[78]\tvalid_0's binary_logloss: 0.243934\n",
      "[79]\tvalid_0's binary_logloss: 0.243852\n",
      "[80]\tvalid_0's binary_logloss: 0.243925\n",
      "[81]\tvalid_0's binary_logloss: 0.243797\n",
      "[82]\tvalid_0's binary_logloss: 0.24372\n",
      "[83]\tvalid_0's binary_logloss: 0.243636\n",
      "[84]\tvalid_0's binary_logloss: 0.24364\n",
      "[85]\tvalid_0's binary_logloss: 0.243739\n",
      "[86]\tvalid_0's binary_logloss: 0.243647\n",
      "[87]\tvalid_0's binary_logloss: 0.243642\n",
      "[88]\tvalid_0's binary_logloss: 0.243696\n",
      "[89]\tvalid_0's binary_logloss: 0.24365\n",
      "[90]\tvalid_0's binary_logloss: 0.243697\n",
      "[91]\tvalid_0's binary_logloss: 0.243689\n",
      "[92]\tvalid_0's binary_logloss: 0.243672\n",
      "[93]\tvalid_0's binary_logloss: 0.243739\n",
      "[94]\tvalid_0's binary_logloss: 0.243726\n",
      "[95]\tvalid_0's binary_logloss: 0.243871\n",
      "[96]\tvalid_0's binary_logloss: 0.243987\n",
      "[97]\tvalid_0's binary_logloss: 0.244024\n",
      "[98]\tvalid_0's binary_logloss: 0.24401\n",
      "[99]\tvalid_0's binary_logloss: 0.244087\n",
      "[100]\tvalid_0's binary_logloss: 0.244066\n",
      "[101]\tvalid_0's binary_logloss: 0.244026\n",
      "[102]\tvalid_0's binary_logloss: 0.244074\n",
      "[103]\tvalid_0's binary_logloss: 0.244075\n",
      "Early stopping, best iteration is:\n",
      "[83]\tvalid_0's binary_logloss: 0.243636\n",
      "Time used by LightGBM: 144.8 ms\n"
     ]
    }
   ],
   "source": [
    "from sklearn.metrics import mean_squared_error\n",
    "from sklearn.model_selection import train_test_split\n",
    "from sklearn.metrics import roc_curve\n",
    "from sklearn.metrics import auc\n",
    "from sklearn.metrics import confusion_matrix\n",
    "import lightgbm as lgb\n",
    "\n",
    "start=time.time()\n",
    "\n",
    "# Split data set into training and test set and feed these to LightGBM:\n",
    "input_train, input_test, truth_train, truth_test, benchmark_train, benchmark_test = train_test_split(input_data, truth_data, benchmark_data, test_size=0.25, random_state=42)\n",
    "lgb_train = lgb.Dataset(input_train, truth_train)\n",
    "lgb_eval  = lgb.Dataset(input_test,  truth_test, reference=lgb_train)\n",
    "params = {\n",
    "    'boosting_type': 'gbdt',\n",
    "    'objective': 'binary',\n",
    "    'num_leaves': 20,\n",
    "}\n",
    "\n",
    "# Train the model:\n",
    "gbm = lgb.train(params,\n",
    "                lgb_train,\n",
    "                num_boost_round=1000,\n",
    "                valid_sets=lgb_eval,\n",
    "                early_stopping_rounds=20)\n",
    "\n",
    "# Make predictions:\n",
    "y_score = gbm.predict(input_test, num_iteration=gbm.best_iteration)\n",
    "y_pred  = [1 if pred > 0.5 else 0 for pred in y_score]\n",
    "\n",
    "# Print the time usage:\n",
    "end = time.time()\n",
    "print(f\"Time used by LightGBM: {(end-start)*1000:.1f} ms\")"
   ]
  },
  {
   "cell_type": "code",
   "execution_count": 6,
   "metadata": {},
   "outputs": [
    {
     "data": {
      "text/plain": [
       "Text(0, 0.5, 'True Positive Rate')"
      ]
     },
     "execution_count": 6,
     "metadata": {},
     "output_type": "execute_result"
    },
    {
     "data": {
      "image/png": "[encoded data removed]",
      "text/plain": [
       "<Figure size 720x720 with 1 Axes>"
      ]
     },
     "metadata": {
      "needs_background": "light"
     },
     "output_type": "display_data"
    }
   ],
   "source": [
    "# Evaluate:\n",
    "fpr, tpr, _ = roc_curve(truth_test, y_score)                  # False/True Positive Rate for our model\n",
    "fpr_nnbjet, tpr_nnbjet, _ = roc_curve(truth_test, benchmark_test)  # False/True Positive Rate for Aleph NNbjet\n",
    "\n",
    "# We can now calculate the AUC scores of these ROC-curves:\n",
    "auc_score = auc(fpr,tpr)                        # This is the AUC score for our model\n",
    "auc_score_nnbjet = auc(fpr_nnbjet, tpr_nnbjet)  # This is the AUC score for Aleph NNbjet\n",
    "\n",
    "# Let's plot the ROC curves for these results:\n",
    "fig = plt.figure(figsize = [10,10])\n",
    "plt.title('Model ROC Comparison', size = 16)\n",
    "plt.plot(fpr, tpr, label=f'Our LightGBM model (AUC = {auc_score:5.3f})')\n",
    "plt.plot(fpr_nnbjet, tpr_nnbjet, label = f'Aleph NNbjet (AUC = {auc_score_nnbjet:5.3f})')\n",
    "plt.legend(fontsize=16)\n",
    "plt.xlabel('False Postive Rate', size=16)\n",
    "plt.ylabel('True Positive Rate', size=16)"
   ]
  },
  {
   "cell_type": "markdown",
   "metadata": {},
   "source": [
    "***\n",
    "\n",
    "# Classify B-jets using MLPclassifier:\n",
    "\n",
    "This is a solution example using MLPclassifier (NN based)."
   ]
  },
  {
   "cell_type": "code",
   "execution_count": 7,
   "metadata": {},
   "outputs": [
    {
     "name": "stdout",
     "output_type": "stream",
     "text": [
      "Time used by MLPClassifier: 8878.6 ms\n"
     ]
    }
   ],
   "source": [
    "from sklearn.neural_network import MLPClassifier\n",
    "\n",
    "start=time.time()\n",
    "clf = MLPClassifier(max_iter=20000,\n",
    "                    n_iter_no_change=100,           # Number of iterations without improvement before stopping\n",
    "                    solver='adam',                  # Standard for minimising\n",
    "                    activation='logistic',          # Standard function (but slightly slower)\n",
    "                    hidden_layer_sizes=(10, 10),    # Size of network\n",
    "                    learning_rate='invscaling',     # Other options are \"constant\" and \"adaptive\"\n",
    "                    random_state=42)\n",
    "clf.fit(input_test, truth_test)\n",
    "\n",
    "# Make predictions (NOTE: This \"spits out\" two columns!):\n",
    "y_score_MLP = clf.predict_proba(input_test)\n",
    "\n",
    "# Print the time usage:\n",
    "end = time.time()\n",
    "print(f\"Time used by MLPClassifier: {(end-start)*1000:.1f} ms\")"
   ]
  },
  {
   "cell_type": "code",
   "execution_count": 8,
   "metadata": {
    "scrolled": false
   },
   "outputs": [
    {
     "data": {
      "text/plain": [
       "Text(0, 0.5, 'True Positive Rate')"
      ]
     },
     "execution_count": 8,
     "metadata": {},
     "output_type": "execute_result"
    },
    {
     "data": {
      "image/png": "[encoded data removed]",
      "text/plain": [
       "<Figure size 720x720 with 1 Axes>"
      ]
     },
     "metadata": {
      "needs_background": "light"
     },
     "output_type": "display_data"
    }
   ],
   "source": [
    "# Evaluate:\n",
    "fpr, tpr, _ = roc_curve(truth_test, y_score_MLP[:,1])              # False/True Positive Rate for our model\n",
    "fpr_nnbjet, tpr_nnbjet, _ = roc_curve(truth_test, benchmark_test)  # False/True Positive Rate for Aleph NNbjet\n",
    "\n",
    "# We can now calculate the AUC scores of these ROC-curves:\n",
    "auc_score = auc(fpr,tpr)                        # This is the AUC score for our model\n",
    "auc_score_nnbjet = auc(fpr_nnbjet, tpr_nnbjet)  # This is the AUC score for Aleph NNbjet\n",
    "\n",
    "# Let's plot the ROC curves for these results:\n",
    "fig = plt.figure(figsize = [10,10])\n",
    "plt.title('Model ROC Comparison', size = 16)\n",
    "plt.plot(fpr, tpr, label=f'Our MLP model (AUC = {auc_score:5.3f})')\n",
    "plt.plot(fpr_nnbjet, tpr_nnbjet, label = f'Aleph NNbjet (AUC = {auc_score_nnbjet:5.3f})')\n",
    "plt.legend(fontsize=16)\n",
    "plt.xlabel('False Postive Rate', size=16)\n",
    "plt.ylabel('True Positive Rate', size=16)"
   ]
  },
  {
   "cell_type": "markdown",
   "metadata": {},
   "source": [
    "***\n",
    "\n",
    "# Classify B-jets using TensorFlow:\n",
    "\n",
    "This is a solution example using TensorFlow (NN based).\n",
    "\n",
    "The example is built with inspiration from\n",
    "https://blog.cmgresearch.com/2020/09/06/tensorflow-binary-classification.html\n",
    "\n",
    "The link contains additional explanitory text and short 5-minute youtube video explaining core concepts."
   ]
  },
  {
   "cell_type": "code",
   "execution_count": 13,
   "metadata": {},
   "outputs": [
    {
     "name": "stdout",
     "output_type": "stream",
     "text": [
      "--------- TRAINING ---------\n",
      "Train on 25476 samples, validate on 8492 samples\n",
      "Epoch 1/10\n",
      "25476/25476 [==============================] - 2s 86us/sample - loss: 0.3195 - binary_crossentropy: 0.3193 - val_loss: 0.2700 - val_binary_crossentropy: 0.2704\n",
      "Epoch 2/10\n",
      "25476/25476 [==============================] - 1s 51us/sample - loss: 0.2671 - binary_crossentropy: 0.2678 - val_loss: 0.2666 - val_binary_crossentropy: 0.2670\n",
      "Epoch 3/10\n",
      "25476/25476 [==============================] - 1s 51us/sample - loss: 0.2662 - binary_crossentropy: 0.2660 - val_loss: 0.2628 - val_binary_crossentropy: 0.2630\n",
      "Epoch 4/10\n",
      "25476/25476 [==============================] - 1s 51us/sample - loss: 0.2658 - binary_crossentropy: 0.2657 - val_loss: 0.2623 - val_binary_crossentropy: 0.2626\n",
      "Epoch 5/10\n",
      "25476/25476 [==============================] - 1s 51us/sample - loss: 0.2652 - binary_crossentropy: 0.2659 - val_loss: 0.2626 - val_binary_crossentropy: 0.2629\n",
      "Epoch 6/10\n",
      "25476/25476 [==============================] - 1s 51us/sample - loss: 0.2654 - binary_crossentropy: 0.2653 - val_loss: 0.2648 - val_binary_crossentropy: 0.2652\n",
      "Epoch 7/10\n",
      "25476/25476 [==============================] - 1s 51us/sample - loss: 0.2645 - binary_crossentropy: 0.2645 - val_loss: 0.2681 - val_binary_crossentropy: 0.2683\n",
      "Epoch 8/10\n",
      "25476/25476 [==============================] - 1s 51us/sample - loss: 0.2646 - binary_crossentropy: 0.2646 - val_loss: 0.2611 - val_binary_crossentropy: 0.2614\n",
      "Epoch 9/10\n",
      "25476/25476 [==============================] - 1s 51us/sample - loss: 0.2643 - binary_crossentropy: 0.2649 - val_loss: 0.2627 - val_binary_crossentropy: 0.2630\n",
      "Epoch 10/10\n",
      "25476/25476 [==============================] - 1s 51us/sample - loss: 0.2639 - binary_crossentropy: 0.2638 - val_loss: 0.2628 - val_binary_crossentropy: 0.2631\n"
     ]
    }
   ],
   "source": [
    "import tensorflow as tf\n",
    "from tensorflow.keras.models import Sequential\n",
    "from tensorflow.keras.layers import Dense\n",
    "\n",
    "input_train, input_valid, truth_train, truth_valid = train_test_split(input_data, truth_data, test_size=0.25, random_state=42)\n",
    "\n",
    "model = Sequential([\n",
    "    Dense(9,activation='relu',name='input_layer'),\n",
    "    Dense(24,activation='relu',name='hidden_layer1'),\n",
    "    Dense(12,activation='relu',name='hidden_layer2'),\n",
    "    Dense(1, activation='sigmoid', name='output')])\n",
    "model.compile(optimizer='adam',\n",
    "              loss=tf.keras.losses.BinaryCrossentropy(),\n",
    "              metrics=[tf.keras.losses.BinaryCrossentropy()])\n",
    "\n",
    "print('--------- TRAINING ---------')\n",
    "history = model.fit(x = np.array(input_train), y = np.array(truth_train), validation_data=(np.array(input_valid), np.array(truth_valid)), epochs = 10)  \n",
    "## This trains the model on input_train by comparing to the true values in truth_train. After every epoch of training, the model is evaluated on the validation dataset, \n",
    "## namely input_valid and truth_valid."
   ]
  },
  {
   "cell_type": "code",
   "execution_count": 14,
   "metadata": {},
   "outputs": [
    {
     "data": {
      "text/plain": [
       "(array([0.25, 0.26, 0.27, 0.28, 0.29, 0.3 , 0.31, 0.32, 0.33]),\n",
       " <a list of 9 Text yticklabel objects>)"
      ]
     },
     "execution_count": 14,
     "metadata": {},
     "output_type": "execute_result"
    },
    {
     "data": {
      "image/png": "[encoded data removed]",
      "text/plain": [
       "<Figure size 432x288 with 1 Axes>"
      ]
     },
     "metadata": {
      "needs_background": "light"
     },
     "output_type": "display_data"
    }
   ],
   "source": [
    "training_loss = history.history['loss']\n",
    "validation_loss = history.history['val_loss']\n",
    "\n",
    "fig =  plt.figure()\n",
    "plt.plot(training_loss,label = 'training loss')\n",
    "plt.plot(training_loss,'o')\n",
    "plt.plot(validation_loss, label = 'validation loss')\n",
    "plt.plot(validation_loss, 'o')\n",
    "plt.legend()\n",
    "plt.xticks(size = 12)\n",
    "plt.yticks(size = 12)"
   ]
  },
  {
   "cell_type": "markdown",
   "metadata": {},
   "source": [
    "### Note on training curve:\n",
    "As you can see, after 3rd epoch the validation loss and training loss cross each other. This is important! Do you know why? Now we have a trained model and we're ready to make predictions. Usually, one would have a test set (so in total one would have; a training set, a validation set AND a test set). But for simplicity, let's just predict on the validation sample. This is OK because the model has not trained on this set - if we asked the model to predict on examples on which it has trained, we would be cheating!"
   ]
  },
  {
   "cell_type": "code",
   "execution_count": 16,
   "metadata": {},
   "outputs": [
    {
     "name": "stdout",
     "output_type": "stream",
     "text": [
      "WARNING:tensorflow:Falling back from v2 loop because of error: Failed to find data adapter that can handle input: <class 'pandas.core.frame.DataFrame'>, <class 'NoneType'>\n"
     ]
    }
   ],
   "source": [
    "# Now make predictions on input_valid. Notice we're not giving it any truth values!\n",
    "predictions = model.predict(input_valid)"
   ]
  },
  {
   "cell_type": "code",
   "execution_count": 19,
   "metadata": {},
   "outputs": [
    {
     "ename": "ValueError",
     "evalue": "Found input variables with inconsistent numbers of samples: [8492, 33968]",
     "output_type": "error",
     "traceback": [
      "\u001b[0;31m---------------------------------------------------------------------------\u001b[0m",
      "\u001b[0;31mValueError\u001b[0m                                Traceback (most recent call last)",
      "\u001b[0;32m<ipython-input-19-ce520a369e51>\u001b[0m in \u001b[0;36m<module>\u001b[0;34m\u001b[0m\n\u001b[1;32m      1\u001b[0m \u001b[0mfpr\u001b[0m\u001b[0;34m,\u001b[0m \u001b[0mtpr\u001b[0m\u001b[0;34m,\u001b[0m \u001b[0m_\u001b[0m \u001b[0;34m=\u001b[0m \u001b[0mroc_curve\u001b[0m\u001b[0;34m(\u001b[0m\u001b[0mtruth_valid\u001b[0m\u001b[0;34m,\u001b[0m \u001b[0mpredictions\u001b[0m\u001b[0;34m)\u001b[0m      \u001b[0;31m# False Positive Rate and True Positive Rate for our model\u001b[0m\u001b[0;34m\u001b[0m\u001b[0;34m\u001b[0m\u001b[0m\n\u001b[0;32m----> 2\u001b[0;31m \u001b[0mfpr_nnbjet\u001b[0m\u001b[0;34m,\u001b[0m \u001b[0mtpr_nnbjet\u001b[0m\u001b[0;34m,\u001b[0m \u001b[0m_\u001b[0m \u001b[0;34m=\u001b[0m \u001b[0mroc_curve\u001b[0m\u001b[0;34m(\u001b[0m\u001b[0mtruth_valid\u001b[0m\u001b[0;34m,\u001b[0m \u001b[0mbenchmark_data\u001b[0m\u001b[0;34m)\u001b[0m \u001b[0;31m# False Positive Rate and True Positive Rate for ALEPH model\u001b[0m\u001b[0;34m\u001b[0m\u001b[0;34m\u001b[0m\u001b[0m\n\u001b[0m\u001b[1;32m      3\u001b[0m \u001b[0;34m\u001b[0m\u001b[0m\n\u001b[1;32m      4\u001b[0m \u001b[0;31m### We can npw calculate the AUC scores of these ROC-curves\u001b[0m\u001b[0;34m\u001b[0m\u001b[0;34m\u001b[0m\u001b[0;34m\u001b[0m\u001b[0m\n\u001b[1;32m      5\u001b[0m \u001b[0mauc_score\u001b[0m \u001b[0;34m=\u001b[0m \u001b[0mauc\u001b[0m\u001b[0;34m(\u001b[0m\u001b[0mfpr\u001b[0m\u001b[0;34m,\u001b[0m\u001b[0mtpr\u001b[0m\u001b[0;34m)\u001b[0m                      \u001b[0;31m# this is auc score for our model\u001b[0m\u001b[0;34m\u001b[0m\u001b[0;34m\u001b[0m\u001b[0m\n",
      "\u001b[0;32m/opt/anaconda3/lib/python3.7/site-packages/sklearn/metrics/_ranking.py\u001b[0m in \u001b[0;36mroc_curve\u001b[0;34m(y_true, y_score, pos_label, sample_weight, drop_intermediate)\u001b[0m\n\u001b[1;32m    769\u001b[0m     \"\"\"\n\u001b[1;32m    770\u001b[0m     fps, tps, thresholds = _binary_clf_curve(\n\u001b[0;32m--> 771\u001b[0;31m         y_true, y_score, pos_label=pos_label, sample_weight=sample_weight)\n\u001b[0m\u001b[1;32m    772\u001b[0m \u001b[0;34m\u001b[0m\u001b[0m\n\u001b[1;32m    773\u001b[0m     \u001b[0;31m# Attempt to drop thresholds corresponding to points in between and\u001b[0m\u001b[0;34m\u001b[0m\u001b[0;34m\u001b[0m\u001b[0;34m\u001b[0m\u001b[0m\n",
      "\u001b[0;32m/opt/anaconda3/lib/python3.7/site-packages/sklearn/metrics/_ranking.py\u001b[0m in \u001b[0;36m_binary_clf_curve\u001b[0;34m(y_true, y_score, pos_label, sample_weight)\u001b[0m\n\u001b[1;32m    536\u001b[0m         \u001b[0;32mraise\u001b[0m \u001b[0mValueError\u001b[0m\u001b[0;34m(\u001b[0m\u001b[0;34m\"{0} format is not supported\"\u001b[0m\u001b[0;34m.\u001b[0m\u001b[0mformat\u001b[0m\u001b[0;34m(\u001b[0m\u001b[0my_type\u001b[0m\u001b[0;34m)\u001b[0m\u001b[0;34m)\u001b[0m\u001b[0;34m\u001b[0m\u001b[0;34m\u001b[0m\u001b[0m\n\u001b[1;32m    537\u001b[0m \u001b[0;34m\u001b[0m\u001b[0m\n\u001b[0;32m--> 538\u001b[0;31m     \u001b[0mcheck_consistent_length\u001b[0m\u001b[0;34m(\u001b[0m\u001b[0my_true\u001b[0m\u001b[0;34m,\u001b[0m \u001b[0my_score\u001b[0m\u001b[0;34m,\u001b[0m \u001b[0msample_weight\u001b[0m\u001b[0;34m)\u001b[0m\u001b[0;34m\u001b[0m\u001b[0;34m\u001b[0m\u001b[0m\n\u001b[0m\u001b[1;32m    539\u001b[0m     \u001b[0my_true\u001b[0m \u001b[0;34m=\u001b[0m \u001b[0mcolumn_or_1d\u001b[0m\u001b[0;34m(\u001b[0m\u001b[0my_true\u001b[0m\u001b[0;34m)\u001b[0m\u001b[0;34m\u001b[0m\u001b[0;34m\u001b[0m\u001b[0m\n\u001b[1;32m    540\u001b[0m     \u001b[0my_score\u001b[0m \u001b[0;34m=\u001b[0m \u001b[0mcolumn_or_1d\u001b[0m\u001b[0;34m(\u001b[0m\u001b[0my_score\u001b[0m\u001b[0;34m)\u001b[0m\u001b[0;34m\u001b[0m\u001b[0;34m\u001b[0m\u001b[0m\n",
      "\u001b[0;32m/opt/anaconda3/lib/python3.7/site-packages/sklearn/utils/validation.py\u001b[0m in \u001b[0;36mcheck_consistent_length\u001b[0;34m(*arrays)\u001b[0m\n\u001b[1;32m    210\u001b[0m     \u001b[0;32mif\u001b[0m \u001b[0mlen\u001b[0m\u001b[0;34m(\u001b[0m\u001b[0muniques\u001b[0m\u001b[0;34m)\u001b[0m \u001b[0;34m>\u001b[0m \u001b[0;36m1\u001b[0m\u001b[0;34m:\u001b[0m\u001b[0;34m\u001b[0m\u001b[0;34m\u001b[0m\u001b[0m\n\u001b[1;32m    211\u001b[0m         raise ValueError(\"Found input variables with inconsistent numbers of\"\n\u001b[0;32m--> 212\u001b[0;31m                          \" samples: %r\" % [int(l) for l in lengths])\n\u001b[0m\u001b[1;32m    213\u001b[0m \u001b[0;34m\u001b[0m\u001b[0m\n\u001b[1;32m    214\u001b[0m \u001b[0;34m\u001b[0m\u001b[0m\n",
      "\u001b[0;31mValueError\u001b[0m: Found input variables with inconsistent numbers of samples: [8492, 33968]"
     ]
    }
   ],
   "source": [
    "fpr, tpr, _ = roc_curve(truth_valid, predictions)      # False Positive Rate and True Positive Rate for our model\n",
    "fpr_nnbjet, tpr_nnbjet, _ = roc_curve(truth_valid, benchmark_data) # False Positive Rate and True Positive Rate for ALEPH model\n",
    "\n",
    "### We can npw calculate the AUC scores of these ROC-curves\n",
    "auc_score = auc(fpr,tpr)                      # this is auc score for our model\n",
    "auc_score_nnbjet = auc(fpr_nnbjet, tpr_nnbjet)# this is the auc score for nnbjet\n",
    "\n",
    "\n",
    "### Let's plot the results\n",
    "\n",
    "fig = plt.figure(figsize = [10,10])\n",
    "plt.title('ROC Comparison', size = 12)\n",
    "plt.plot(fpr,tpr, label = 'our model')\n",
    "plt.plot(fpr_nnbjet, tpr_nnbjet, label = 'nnbjet')\n",
    "plt.legend()\n",
    "plt.xlabel('False Postive Rate', size = 12)\n",
    "plt.ylabel('True Positive Rate', size = 12)\n",
    "### This just plots a table with the AUC-scores.\n",
    "row_labels=['our model',\n",
    "            'nnbjet']\n",
    "table_vals=[[round(auc_score,5)],\n",
    "            [round(auc_score_nnbjet,5)]]\n",
    "col_labels=['AUC']\n",
    "the_table = plt.table(cellText=table_vals,\n",
    "                  colWidths = [0.1]*3,\n",
    "                  rowLabels=row_labels,\n",
    "                  colLabels=col_labels,\n",
    "                  loc='center right')\n",
    "########\n",
    "\n"
   ]
  },
  {
   "cell_type": "code",
   "execution_count": null,
   "metadata": {},
   "outputs": [],
   "source": []
  }
 ],
 "metadata": {
  "kernelspec": {
   "display_name": "Python 3",
   "language": "python",
   "name": "python3"
  },
  "language_info": {
   "codemirror_mode": {
    "name": "ipython",
    "version": 3
   },
   "file_extension": ".py",
   "mimetype": "text/x-python",
   "name": "python",
   "nbconvert_exporter": "python",
   "pygments_lexer": "ipython3",
   "version": "3.7.6"
  }
 },
 "nbformat": 4,
 "nbformat_minor": 2
}
